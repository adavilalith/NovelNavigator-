{
 "cells": [
  {
   "cell_type": "code",
   "execution_count": 107,
   "id": "845a81da-eaf3-4087-941f-30eec8b9ec50",
   "metadata": {},
   "outputs": [],
   "source": [
    "import numpy as np\n",
    "import pandas as pd\n",
    "import pickle"
   ]
  },
  {
   "cell_type": "code",
   "execution_count": 108,
   "id": "1bf56e2e-4314-4bcb-b7b9-70c35e08dbfb",
   "metadata": {},
   "outputs": [
    {
     "data": {
      "text/html": [
       "<div>\n",
       "<style scoped>\n",
       "    .dataframe tbody tr th:only-of-type {\n",
       "        vertical-align: middle;\n",
       "    }\n",
       "\n",
       "    .dataframe tbody tr th {\n",
       "        vertical-align: top;\n",
       "    }\n",
       "\n",
       "    .dataframe thead th {\n",
       "        text-align: right;\n",
       "    }\n",
       "</style>\n",
       "<table border=\"1\" class=\"dataframe\">\n",
       "  <thead>\n",
       "    <tr style=\"text-align: right;\">\n",
       "      <th></th>\n",
       "      <th>ISBN</th>\n",
       "      <th>Book-Title</th>\n",
       "      <th>Book-Author</th>\n",
       "      <th>Image-URL-M</th>\n",
       "      <th>Image-URL-L</th>\n",
       "    </tr>\n",
       "  </thead>\n",
       "  <tbody>\n",
       "    <tr>\n",
       "      <th>5</th>\n",
       "      <td>0399135782</td>\n",
       "      <td>The Kitchen God's Wife</td>\n",
       "      <td>Amy Tan</td>\n",
       "      <td>http://images.amazon.com/images/P/0399135782.0...</td>\n",
       "      <td>http://images.amazon.com/images/P/0399135782.0...</td>\n",
       "    </tr>\n",
       "    <tr>\n",
       "      <th>18</th>\n",
       "      <td>0440234743</td>\n",
       "      <td>The Testament</td>\n",
       "      <td>John Grisham</td>\n",
       "      <td>http://images.amazon.com/images/P/0440234743.0...</td>\n",
       "      <td>http://images.amazon.com/images/P/0440234743.0...</td>\n",
       "    </tr>\n",
       "    <tr>\n",
       "      <th>19</th>\n",
       "      <td>0452264464</td>\n",
       "      <td>Beloved (Plume Contemporary Fiction)</td>\n",
       "      <td>Toni Morrison</td>\n",
       "      <td>http://images.amazon.com/images/P/0452264464.0...</td>\n",
       "      <td>http://images.amazon.com/images/P/0452264464.0...</td>\n",
       "    </tr>\n",
       "    <tr>\n",
       "      <th>26</th>\n",
       "      <td>0971880107</td>\n",
       "      <td>Wild Animus</td>\n",
       "      <td>Rich Shapero</td>\n",
       "      <td>http://images.amazon.com/images/P/0971880107.0...</td>\n",
       "      <td>http://images.amazon.com/images/P/0971880107.0...</td>\n",
       "    </tr>\n",
       "    <tr>\n",
       "      <th>27</th>\n",
       "      <td>0345402871</td>\n",
       "      <td>Airframe</td>\n",
       "      <td>Michael Crichton</td>\n",
       "      <td>http://images.amazon.com/images/P/0345402871.0...</td>\n",
       "      <td>http://images.amazon.com/images/P/0345402871.0...</td>\n",
       "    </tr>\n",
       "  </tbody>\n",
       "</table>\n",
       "</div>"
      ],
      "text/plain": [
       "          ISBN                            Book-Title       Book-Author  \\\n",
       "5   0399135782                The Kitchen God's Wife           Amy Tan   \n",
       "18  0440234743                         The Testament      John Grisham   \n",
       "19  0452264464  Beloved (Plume Contemporary Fiction)     Toni Morrison   \n",
       "26  0971880107                           Wild Animus      Rich Shapero   \n",
       "27  0345402871                              Airframe  Michael Crichton   \n",
       "\n",
       "                                          Image-URL-M  \\\n",
       "5   http://images.amazon.com/images/P/0399135782.0...   \n",
       "18  http://images.amazon.com/images/P/0440234743.0...   \n",
       "19  http://images.amazon.com/images/P/0452264464.0...   \n",
       "26  http://images.amazon.com/images/P/0971880107.0...   \n",
       "27  http://images.amazon.com/images/P/0345402871.0...   \n",
       "\n",
       "                                          Image-URL-L  \n",
       "5   http://images.amazon.com/images/P/0399135782.0...  \n",
       "18  http://images.amazon.com/images/P/0440234743.0...  \n",
       "19  http://images.amazon.com/images/P/0452264464.0...  \n",
       "26  http://images.amazon.com/images/P/0971880107.0...  \n",
       "27  http://images.amazon.com/images/P/0345402871.0...  "
      ]
     },
     "execution_count": 108,
     "metadata": {},
     "output_type": "execute_result"
    }
   ],
   "source": [
    "Books = pickle.load(open('./comp_books.pkl','rb'))\n",
    "Ratings = pd.read_csv('./datasets/Ratings.csv')\n",
    "Users= pd.read_csv('./datasets/Users.csv')\n",
    "Books.head()\n"
   ]
  },
  {
   "cell_type": "code",
   "execution_count": 109,
   "id": "7d853bb3-4f9b-4707-bbb7-190ef8e9d679",
   "metadata": {},
   "outputs": [
    {
     "data": {
      "text/html": [
       "<div>\n",
       "<style scoped>\n",
       "    .dataframe tbody tr th:only-of-type {\n",
       "        vertical-align: middle;\n",
       "    }\n",
       "\n",
       "    .dataframe tbody tr th {\n",
       "        vertical-align: top;\n",
       "    }\n",
       "\n",
       "    .dataframe thead th {\n",
       "        text-align: right;\n",
       "    }\n",
       "</style>\n",
       "<table border=\"1\" class=\"dataframe\">\n",
       "  <thead>\n",
       "    <tr style=\"text-align: right;\">\n",
       "      <th></th>\n",
       "      <th>User-ID</th>\n",
       "      <th>ISBN</th>\n",
       "      <th>Book-Rating</th>\n",
       "    </tr>\n",
       "  </thead>\n",
       "  <tbody>\n",
       "    <tr>\n",
       "      <th>0</th>\n",
       "      <td>276725</td>\n",
       "      <td>034545104X</td>\n",
       "      <td>0</td>\n",
       "    </tr>\n",
       "    <tr>\n",
       "      <th>1</th>\n",
       "      <td>276726</td>\n",
       "      <td>0155061224</td>\n",
       "      <td>5</td>\n",
       "    </tr>\n",
       "    <tr>\n",
       "      <th>2</th>\n",
       "      <td>276727</td>\n",
       "      <td>0446520802</td>\n",
       "      <td>0</td>\n",
       "    </tr>\n",
       "    <tr>\n",
       "      <th>3</th>\n",
       "      <td>276729</td>\n",
       "      <td>052165615X</td>\n",
       "      <td>3</td>\n",
       "    </tr>\n",
       "    <tr>\n",
       "      <th>4</th>\n",
       "      <td>276729</td>\n",
       "      <td>0521795028</td>\n",
       "      <td>6</td>\n",
       "    </tr>\n",
       "  </tbody>\n",
       "</table>\n",
       "</div>"
      ],
      "text/plain": [
       "   User-ID        ISBN  Book-Rating\n",
       "0   276725  034545104X            0\n",
       "1   276726  0155061224            5\n",
       "2   276727  0446520802            0\n",
       "3   276729  052165615X            3\n",
       "4   276729  0521795028            6"
      ]
     },
     "execution_count": 109,
     "metadata": {},
     "output_type": "execute_result"
    }
   ],
   "source": [
    "Ratings.head()"
   ]
  },
  {
   "cell_type": "code",
   "execution_count": 110,
   "id": "7cac3718-0d1a-4199-8de9-5741f334cb21",
   "metadata": {},
   "outputs": [
    {
     "data": {
      "text/plain": [
       "716109"
      ]
     },
     "execution_count": 110,
     "metadata": {},
     "output_type": "execute_result"
    }
   ],
   "source": [
    "len(np.where(Ratings['Book-Rating']==0)[0])"
   ]
  },
  {
   "cell_type": "code",
   "execution_count": 111,
   "id": "04e37bf7-2274-40a5-9222-eac3e0f8bc8a",
   "metadata": {},
   "outputs": [
    {
     "data": {
      "text/plain": [
       "0"
      ]
     },
     "execution_count": 111,
     "metadata": {},
     "output_type": "execute_result"
    }
   ],
   "source": [
    "filter = Ratings[Ratings[\"Book-Rating\"]==0].index \n",
    "Ratings.drop(filter,inplace=True)\n",
    "len(np.where(Ratings['Book-Rating']==0)[0])\n"
   ]
  },
  {
   "cell_type": "code",
   "execution_count": 112,
   "id": "bb8ee71c-4c35-427a-a02f-6ac779f892b3",
   "metadata": {},
   "outputs": [
    {
     "data": {
      "text/html": [
       "<div>\n",
       "<style scoped>\n",
       "    .dataframe tbody tr th:only-of-type {\n",
       "        vertical-align: middle;\n",
       "    }\n",
       "\n",
       "    .dataframe tbody tr th {\n",
       "        vertical-align: top;\n",
       "    }\n",
       "\n",
       "    .dataframe thead th {\n",
       "        text-align: right;\n",
       "    }\n",
       "</style>\n",
       "<table border=\"1\" class=\"dataframe\">\n",
       "  <thead>\n",
       "    <tr style=\"text-align: right;\">\n",
       "      <th></th>\n",
       "      <th>User-ID</th>\n",
       "      <th>Location</th>\n",
       "      <th>Age</th>\n",
       "    </tr>\n",
       "  </thead>\n",
       "  <tbody>\n",
       "    <tr>\n",
       "      <th>0</th>\n",
       "      <td>1</td>\n",
       "      <td>nyc, new york, usa</td>\n",
       "      <td>NaN</td>\n",
       "    </tr>\n",
       "    <tr>\n",
       "      <th>1</th>\n",
       "      <td>2</td>\n",
       "      <td>stockton, california, usa</td>\n",
       "      <td>18.0</td>\n",
       "    </tr>\n",
       "    <tr>\n",
       "      <th>2</th>\n",
       "      <td>3</td>\n",
       "      <td>moscow, yukon territory, russia</td>\n",
       "      <td>NaN</td>\n",
       "    </tr>\n",
       "    <tr>\n",
       "      <th>3</th>\n",
       "      <td>4</td>\n",
       "      <td>porto, v.n.gaia, portugal</td>\n",
       "      <td>17.0</td>\n",
       "    </tr>\n",
       "    <tr>\n",
       "      <th>4</th>\n",
       "      <td>5</td>\n",
       "      <td>farnborough, hants, united kingdom</td>\n",
       "      <td>NaN</td>\n",
       "    </tr>\n",
       "  </tbody>\n",
       "</table>\n",
       "</div>"
      ],
      "text/plain": [
       "   User-ID                            Location   Age\n",
       "0        1                  nyc, new york, usa   NaN\n",
       "1        2           stockton, california, usa  18.0\n",
       "2        3     moscow, yukon territory, russia   NaN\n",
       "3        4           porto, v.n.gaia, portugal  17.0\n",
       "4        5  farnborough, hants, united kingdom   NaN"
      ]
     },
     "execution_count": 112,
     "metadata": {},
     "output_type": "execute_result"
    }
   ],
   "source": [
    "Users.head()"
   ]
  },
  {
   "cell_type": "code",
   "execution_count": 113,
   "id": "a453cc03-db06-4634-8956-4f150f24aaee",
   "metadata": {},
   "outputs": [
    {
     "data": {
      "text/plain": [
       "(2501, 5)"
      ]
     },
     "execution_count": 113,
     "metadata": {},
     "output_type": "execute_result"
    }
   ],
   "source": [
    "Books.shape"
   ]
  },
  {
   "cell_type": "code",
   "execution_count": 114,
   "id": "87b717a5-6b36-4cbf-aacb-c96c0162b501",
   "metadata": {},
   "outputs": [
    {
     "name": "stdout",
     "output_type": "stream",
     "text": [
      "<class 'pandas.core.frame.DataFrame'>\n",
      "Index: 2082 entries, 5 to 271169\n",
      "Data columns (total 5 columns):\n",
      " #   Column       Non-Null Count  Dtype \n",
      "---  ------       --------------  ----- \n",
      " 0   ISBN         2082 non-null   object\n",
      " 1   Book-Title   2082 non-null   object\n",
      " 2   Book-Author  2082 non-null   object\n",
      " 3   Image-URL-M  2082 non-null   object\n",
      " 4   Image-URL-L  2082 non-null   object\n",
      "dtypes: object(5)\n",
      "memory usage: 97.6+ KB\n"
     ]
    }
   ],
   "source": [
    "filter = Books[~(Books['ISBN'].isin(Ratings['ISBN']))].index\n",
    "Books.drop(filter,inplace=True)\n",
    "Books.info()"
   ]
  },
  {
   "cell_type": "code",
   "execution_count": 115,
   "id": "5f8bc64b-9d19-4a95-9b3e-8c29918b32dc",
   "metadata": {},
   "outputs": [
    {
     "data": {
      "text/plain": [
       "(2082, 5)"
      ]
     },
     "execution_count": 115,
     "metadata": {},
     "output_type": "execute_result"
    }
   ],
   "source": [
    "Books.shape"
   ]
  },
  {
   "cell_type": "code",
   "execution_count": 116,
   "id": "33e263b3-bb42-4afa-9d55-9678e0954d5a",
   "metadata": {},
   "outputs": [
    {
     "data": {
      "text/plain": [
       "8.784722222222221"
      ]
     },
     "execution_count": 116,
     "metadata": {},
     "output_type": "execute_result"
    }
   ],
   "source": [
    "t = Ratings[Ratings['ISBN'].isin(Books[Books['Book-Title']=='1984']['ISBN'])]\n",
    "t['Book-Rating'].mean()"
   ]
  },
  {
   "cell_type": "code",
   "execution_count": 134,
   "id": "1a70f5a4-2ca8-469f-b7c0-8973b9d129bd",
   "metadata": {},
   "outputs": [
    {
     "data": {
      "text/html": [
       "<div>\n",
       "<style scoped>\n",
       "    .dataframe tbody tr th:only-of-type {\n",
       "        vertical-align: middle;\n",
       "    }\n",
       "\n",
       "    .dataframe tbody tr th {\n",
       "        vertical-align: top;\n",
       "    }\n",
       "\n",
       "    .dataframe thead th {\n",
       "        text-align: right;\n",
       "    }\n",
       "</style>\n",
       "<table border=\"1\" class=\"dataframe\">\n",
       "  <thead>\n",
       "    <tr style=\"text-align: right;\">\n",
       "      <th></th>\n",
       "      <th>ISBN</th>\n",
       "      <th>avg_rating</th>\n",
       "    </tr>\n",
       "  </thead>\n",
       "  <tbody>\n",
       "  </tbody>\n",
       "</table>\n",
       "</div>"
      ],
      "text/plain": [
       "Empty DataFrame\n",
       "Columns: [ISBN, avg_rating]\n",
       "Index: []"
      ]
     },
     "execution_count": 134,
     "metadata": {},
     "output_type": "execute_result"
    }
   ],
   "source": [
    "avg_ratings = Ratings.groupby('ISBN').agg(avg_rating=('Book-Rating','mean')).reset_index()\n",
    "avg_ratings[avg_ratings['ISBN']=='04515249']\n",
    "# x"
   ]
  },
  {
   "cell_type": "code",
   "execution_count": 118,
   "id": "1d17cbf5-f370-48b0-8a4c-85af4c512fb5",
   "metadata": {},
   "outputs": [
    {
     "data": {
      "text/plain": [
       "2104      0451524934\n",
       "8226      0451519841\n",
       "12765     0452262933\n",
       "45376     0151660387\n",
       "55611     848328006X\n",
       "63218     207036822X\n",
       "65343     8423328651\n",
       "100698    B00006H3BO\n",
       "Name: ISBN, dtype: object"
      ]
     },
     "execution_count": 118,
     "metadata": {},
     "output_type": "execute_result"
    }
   ],
   "source": [
    "Books[Books['Book-Title']=='1984']['ISBN']"
   ]
  },
  {
   "cell_type": "code",
   "execution_count": 119,
   "id": "522935a9-b6ba-4ee3-81ce-b8c178bb2ad7",
   "metadata": {},
   "outputs": [],
   "source": [
    "Books = Books.merge(avg_ratings,on='ISBN')"
   ]
  },
  {
   "cell_type": "code",
   "execution_count": 120,
   "id": "372ab0f3-db1d-4793-9df8-1499b2d4b3da",
   "metadata": {},
   "outputs": [
    {
     "data": {
      "text/html": [
       "<div>\n",
       "<style scoped>\n",
       "    .dataframe tbody tr th:only-of-type {\n",
       "        vertical-align: middle;\n",
       "    }\n",
       "\n",
       "    .dataframe tbody tr th {\n",
       "        vertical-align: top;\n",
       "    }\n",
       "\n",
       "    .dataframe thead th {\n",
       "        text-align: right;\n",
       "    }\n",
       "</style>\n",
       "<table border=\"1\" class=\"dataframe\">\n",
       "  <thead>\n",
       "    <tr style=\"text-align: right;\">\n",
       "      <th></th>\n",
       "      <th>ISBN</th>\n",
       "      <th>Book-Title</th>\n",
       "      <th>Book-Author</th>\n",
       "      <th>Image-URL-M</th>\n",
       "      <th>Image-URL-L</th>\n",
       "      <th>avg_rating</th>\n",
       "    </tr>\n",
       "  </thead>\n",
       "  <tbody>\n",
       "    <tr>\n",
       "      <th>0</th>\n",
       "      <td>0399135782</td>\n",
       "      <td>The Kitchen God's Wife</td>\n",
       "      <td>Amy Tan</td>\n",
       "      <td>http://images.amazon.com/images/P/0399135782.0...</td>\n",
       "      <td>http://images.amazon.com/images/P/0399135782.0...</td>\n",
       "      <td>8.176471</td>\n",
       "    </tr>\n",
       "    <tr>\n",
       "      <th>1</th>\n",
       "      <td>0440234743</td>\n",
       "      <td>The Testament</td>\n",
       "      <td>John Grisham</td>\n",
       "      <td>http://images.amazon.com/images/P/0440234743.0...</td>\n",
       "      <td>http://images.amazon.com/images/P/0440234743.0...</td>\n",
       "      <td>7.704142</td>\n",
       "    </tr>\n",
       "    <tr>\n",
       "      <th>2</th>\n",
       "      <td>0452264464</td>\n",
       "      <td>Beloved (Plume Contemporary Fiction)</td>\n",
       "      <td>Toni Morrison</td>\n",
       "      <td>http://images.amazon.com/images/P/0452264464.0...</td>\n",
       "      <td>http://images.amazon.com/images/P/0452264464.0...</td>\n",
       "      <td>7.772152</td>\n",
       "    </tr>\n",
       "    <tr>\n",
       "      <th>3</th>\n",
       "      <td>0971880107</td>\n",
       "      <td>Wild Animus</td>\n",
       "      <td>Rich Shapero</td>\n",
       "      <td>http://images.amazon.com/images/P/0971880107.0...</td>\n",
       "      <td>http://images.amazon.com/images/P/0971880107.0...</td>\n",
       "      <td>4.390706</td>\n",
       "    </tr>\n",
       "    <tr>\n",
       "      <th>4</th>\n",
       "      <td>0345402871</td>\n",
       "      <td>Airframe</td>\n",
       "      <td>Michael Crichton</td>\n",
       "      <td>http://images.amazon.com/images/P/0345402871.0...</td>\n",
       "      <td>http://images.amazon.com/images/P/0345402871.0...</td>\n",
       "      <td>7.455696</td>\n",
       "    </tr>\n",
       "  </tbody>\n",
       "</table>\n",
       "</div>"
      ],
      "text/plain": [
       "         ISBN                            Book-Title       Book-Author  \\\n",
       "0  0399135782                The Kitchen God's Wife           Amy Tan   \n",
       "1  0440234743                         The Testament      John Grisham   \n",
       "2  0452264464  Beloved (Plume Contemporary Fiction)     Toni Morrison   \n",
       "3  0971880107                           Wild Animus      Rich Shapero   \n",
       "4  0345402871                              Airframe  Michael Crichton   \n",
       "\n",
       "                                         Image-URL-M  \\\n",
       "0  http://images.amazon.com/images/P/0399135782.0...   \n",
       "1  http://images.amazon.com/images/P/0440234743.0...   \n",
       "2  http://images.amazon.com/images/P/0452264464.0...   \n",
       "3  http://images.amazon.com/images/P/0971880107.0...   \n",
       "4  http://images.amazon.com/images/P/0345402871.0...   \n",
       "\n",
       "                                         Image-URL-L  avg_rating  \n",
       "0  http://images.amazon.com/images/P/0399135782.0...    8.176471  \n",
       "1  http://images.amazon.com/images/P/0440234743.0...    7.704142  \n",
       "2  http://images.amazon.com/images/P/0452264464.0...    7.772152  \n",
       "3  http://images.amazon.com/images/P/0971880107.0...    4.390706  \n",
       "4  http://images.amazon.com/images/P/0345402871.0...    7.455696  "
      ]
     },
     "execution_count": 120,
     "metadata": {},
     "output_type": "execute_result"
    }
   ],
   "source": [
    "Books.head()"
   ]
  },
  {
   "cell_type": "code",
   "execution_count": 122,
   "id": "26d7980d-3d08-4231-847d-4c892c1417c5",
   "metadata": {},
   "outputs": [],
   "source": [
    "pickle.dump(Books,open('comp_books.pkl','wb'))"
   ]
  },
  {
   "cell_type": "code",
   "execution_count": 132,
   "id": "ad3cc4f0-b670-4d03-a35c-939b2ab2a51f",
   "metadata": {},
   "outputs": [],
   "source": [
    "ratings_count = Ratings.groupby('ISBN').agg(num_ratings=('Book-Rating','count')).reset_index()\n",
    "filtered_ratings_count = ratings_count[ratings_count['num_ratings']>50]"
   ]
  },
  {
   "cell_type": "code",
   "execution_count": 138,
   "id": "0e383034-4402-4614-a6c5-ddf266844193",
   "metadata": {},
   "outputs": [
    {
     "ename": "NameError",
     "evalue": "name 'filtered_ratings_count' is not defined",
     "output_type": "error",
     "traceback": [
      "\u001b[1;31m---------------------------------------------------------------------------\u001b[0m",
      "\u001b[1;31mNameError\u001b[0m                                 Traceback (most recent call last)",
      "Cell \u001b[1;32mIn[138], line 1\u001b[0m\n\u001b[1;32m----> 1\u001b[0m Books \u001b[38;5;241m=\u001b[39m Books\u001b[38;5;241m.\u001b[39mmerge(\u001b[43mfiltered_ratings_count\u001b[49m,on\u001b[38;5;241m=\u001b[39m\u001b[38;5;124m'\u001b[39m\u001b[38;5;124mISBN\u001b[39m\u001b[38;5;124m'\u001b[39m)\n",
      "\u001b[1;31mNameError\u001b[0m: name 'filtered_ratings_count' is not defined"
     ]
    }
   ],
   "source": [
    "Books = Books.merge(filtered_ratings_count,on='ISBN')"
   ]
  },
  {
   "cell_type": "code",
   "execution_count": 135,
   "id": "275c5c66-edca-4641-a519-58549b836a06",
   "metadata": {},
   "outputs": [
    {
     "data": {
      "text/html": [
       "<div>\n",
       "<style scoped>\n",
       "    .dataframe tbody tr th:only-of-type {\n",
       "        vertical-align: middle;\n",
       "    }\n",
       "\n",
       "    .dataframe tbody tr th {\n",
       "        vertical-align: top;\n",
       "    }\n",
       "\n",
       "    .dataframe thead th {\n",
       "        text-align: right;\n",
       "    }\n",
       "</style>\n",
       "<table border=\"1\" class=\"dataframe\">\n",
       "  <thead>\n",
       "    <tr style=\"text-align: right;\">\n",
       "      <th></th>\n",
       "      <th>ISBN</th>\n",
       "      <th>Book-Title</th>\n",
       "      <th>Book-Author</th>\n",
       "      <th>Image-URL-M</th>\n",
       "      <th>Image-URL-L</th>\n",
       "      <th>avg_rating</th>\n",
       "    </tr>\n",
       "  </thead>\n",
       "  <tbody>\n",
       "    <tr>\n",
       "      <th>237</th>\n",
       "      <td>0345339703</td>\n",
       "      <td>The Fellowship of the Ring (The Lord of the Ri...</td>\n",
       "      <td>J.R.R. TOLKIEN</td>\n",
       "      <td>http://images.amazon.com/images/P/0345339703.0...</td>\n",
       "      <td>http://images.amazon.com/images/P/0345339703.0...</td>\n",
       "      <td>8.839695</td>\n",
       "    </tr>\n",
       "    <tr>\n",
       "      <th>934</th>\n",
       "      <td>0618002227</td>\n",
       "      <td>The Fellowship of the Ring (The Lord of the Ri...</td>\n",
       "      <td>J. R. R. Tolkien</td>\n",
       "      <td>http://images.amazon.com/images/P/0618002227.0...</td>\n",
       "      <td>http://images.amazon.com/images/P/0618002227.0...</td>\n",
       "      <td>9.093023</td>\n",
       "    </tr>\n",
       "    <tr>\n",
       "      <th>1021</th>\n",
       "      <td>0618129030</td>\n",
       "      <td>The Fellowship of the Ring (The Lord of the Ri...</td>\n",
       "      <td>J. R. R. Tolkien</td>\n",
       "      <td>http://images.amazon.com/images/P/0618129030.0...</td>\n",
       "      <td>http://images.amazon.com/images/P/0618129030.0...</td>\n",
       "      <td>9.066667</td>\n",
       "    </tr>\n",
       "    <tr>\n",
       "      <th>1261</th>\n",
       "      <td>061826051X</td>\n",
       "      <td>The Fellowship of the Ring (The Lord of the Ri...</td>\n",
       "      <td>J. R. R. Tolkien</td>\n",
       "      <td>http://images.amazon.com/images/P/061826051X.0...</td>\n",
       "      <td>http://images.amazon.com/images/P/061826051X.0...</td>\n",
       "      <td>8.000000</td>\n",
       "    </tr>\n",
       "    <tr>\n",
       "      <th>1362</th>\n",
       "      <td>0395489318</td>\n",
       "      <td>The Fellowship of the Ring (The Lord of the Ri...</td>\n",
       "      <td>J. R. R. Tolkien</td>\n",
       "      <td>http://images.amazon.com/images/P/0395489318.0...</td>\n",
       "      <td>http://images.amazon.com/images/P/0395489318.0...</td>\n",
       "      <td>8.800000</td>\n",
       "    </tr>\n",
       "    <tr>\n",
       "      <th>1731</th>\n",
       "      <td>0618260269</td>\n",
       "      <td>The Fellowship of the Ring (The Lord of the Ri...</td>\n",
       "      <td>J. R. R. Tolkien</td>\n",
       "      <td>http://images.amazon.com/images/P/0618260269.0...</td>\n",
       "      <td>http://images.amazon.com/images/P/0618260269.0...</td>\n",
       "      <td>8.200000</td>\n",
       "    </tr>\n",
       "    <tr>\n",
       "      <th>1784</th>\n",
       "      <td>0618346252</td>\n",
       "      <td>The Fellowship of the Ring (The Lord of the Ri...</td>\n",
       "      <td>J. R. R. Tolkien</td>\n",
       "      <td>http://images.amazon.com/images/P/0618346252.0...</td>\n",
       "      <td>http://images.amazon.com/images/P/0618346252.0...</td>\n",
       "      <td>9.000000</td>\n",
       "    </tr>\n",
       "    <tr>\n",
       "      <th>1823</th>\n",
       "      <td>1565116674</td>\n",
       "      <td>The Fellowship of the Ring (The Lord of the Ri...</td>\n",
       "      <td>J. R. R. Tolkien</td>\n",
       "      <td>http://images.amazon.com/images/P/1565116674.0...</td>\n",
       "      <td>http://images.amazon.com/images/P/1565116674.0...</td>\n",
       "      <td>5.000000</td>\n",
       "    </tr>\n",
       "    <tr>\n",
       "      <th>1851</th>\n",
       "      <td>0618153985</td>\n",
       "      <td>The Fellowship of the Ring (The Lord of the Ri...</td>\n",
       "      <td>J.R.R. Tolkien</td>\n",
       "      <td>http://images.amazon.com/images/P/0618153985.0...</td>\n",
       "      <td>http://images.amazon.com/images/P/0618153985.0...</td>\n",
       "      <td>9.666667</td>\n",
       "    </tr>\n",
       "  </tbody>\n",
       "</table>\n",
       "</div>"
      ],
      "text/plain": [
       "            ISBN                                         Book-Title  \\\n",
       "237   0345339703  The Fellowship of the Ring (The Lord of the Ri...   \n",
       "934   0618002227  The Fellowship of the Ring (The Lord of the Ri...   \n",
       "1021  0618129030  The Fellowship of the Ring (The Lord of the Ri...   \n",
       "1261  061826051X  The Fellowship of the Ring (The Lord of the Ri...   \n",
       "1362  0395489318  The Fellowship of the Ring (The Lord of the Ri...   \n",
       "1731  0618260269  The Fellowship of the Ring (The Lord of the Ri...   \n",
       "1784  0618346252  The Fellowship of the Ring (The Lord of the Ri...   \n",
       "1823  1565116674  The Fellowship of the Ring (The Lord of the Ri...   \n",
       "1851  0618153985  The Fellowship of the Ring (The Lord of the Ri...   \n",
       "\n",
       "           Book-Author                                        Image-URL-M  \\\n",
       "237     J.R.R. TOLKIEN  http://images.amazon.com/images/P/0345339703.0...   \n",
       "934   J. R. R. Tolkien  http://images.amazon.com/images/P/0618002227.0...   \n",
       "1021  J. R. R. Tolkien  http://images.amazon.com/images/P/0618129030.0...   \n",
       "1261  J. R. R. Tolkien  http://images.amazon.com/images/P/061826051X.0...   \n",
       "1362  J. R. R. Tolkien  http://images.amazon.com/images/P/0395489318.0...   \n",
       "1731  J. R. R. Tolkien  http://images.amazon.com/images/P/0618260269.0...   \n",
       "1784  J. R. R. Tolkien  http://images.amazon.com/images/P/0618346252.0...   \n",
       "1823  J. R. R. Tolkien  http://images.amazon.com/images/P/1565116674.0...   \n",
       "1851    J.R.R. Tolkien  http://images.amazon.com/images/P/0618153985.0...   \n",
       "\n",
       "                                            Image-URL-L  avg_rating  \n",
       "237   http://images.amazon.com/images/P/0345339703.0...    8.839695  \n",
       "934   http://images.amazon.com/images/P/0618002227.0...    9.093023  \n",
       "1021  http://images.amazon.com/images/P/0618129030.0...    9.066667  \n",
       "1261  http://images.amazon.com/images/P/061826051X.0...    8.000000  \n",
       "1362  http://images.amazon.com/images/P/0395489318.0...    8.800000  \n",
       "1731  http://images.amazon.com/images/P/0618260269.0...    8.200000  \n",
       "1784  http://images.amazon.com/images/P/0618346252.0...    9.000000  \n",
       "1823  http://images.amazon.com/images/P/1565116674.0...    5.000000  \n",
       "1851  http://images.amazon.com/images/P/0618153985.0...    9.666667  "
      ]
     },
     "execution_count": 135,
     "metadata": {},
     "output_type": "execute_result"
    }
   ],
   "source": [
    "Books[Books['Book-Title']=='The Fellowship of the Ring (The Lord of the Rings, Part 1)']"
   ]
  }
 ],
 "metadata": {
  "kernelspec": {
   "display_name": "Python 3 (ipykernel)",
   "language": "python",
   "name": "python3"
  },
  "language_info": {
   "codemirror_mode": {
    "name": "ipython",
    "version": 3
   },
   "file_extension": ".py",
   "mimetype": "text/x-python",
   "name": "python",
   "nbconvert_exporter": "python",
   "pygments_lexer": "ipython3",
   "version": "3.10.11"
  }
 },
 "nbformat": 4,
 "nbformat_minor": 5
}
